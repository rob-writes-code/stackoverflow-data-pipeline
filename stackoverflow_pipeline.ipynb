{
 "cells": [
  {
   "cell_type": "markdown",
   "metadata": {},
   "source": [
    "# Stack Overflow Data Pipeline\n",
    "\n",
    "In this project, I will create a data pipeline in the Cloud using Apache Airflow.\n",
    "\n",
    "The dataset I will use for this project is an archive of Stack Overflow content.\n",
    "\n",
    "### Architecture\n",
    "\n",
    "![flow_of_data](./screenshots/pipeline_data_flow.png)\n",
    "\n",
    "This diagram illustrates the flow of data from the source database (AWS RDS - Source Database), through to the data processing step (AWS EC2 - Apache Airflow), and finally, insertion into the analytical database (AWS RDS - Analytical Database)."
   ]
  },
  {
   "cell_type": "markdown",
   "metadata": {},
   "source": [
    "## EC2 Setup\n",
    "\n",
    "First, I will setup an EC2 instance on AWS.\n",
    "\n",
    "EC2 is a web service which provides computing capacity in the Cloud. \n",
    "\n",
    "I will configure Airflow to run inside my EC2 instance, so that the pipeline runs in the Cloud, independent from my local machine."
   ]
  }
 ],
 "metadata": {
  "language_info": {
   "name": "python"
  },
  "orig_nbformat": 4
 },
 "nbformat": 4,
 "nbformat_minor": 2
}
